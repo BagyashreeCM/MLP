{
 "cells": [
  {
   "cell_type": "code",
   "execution_count": 1,
   "id": "91cd11f0",
   "metadata": {},
   "outputs": [],
   "source": [
    "import numpy as np\n",
    "import pandas as pd\n",
    "from matplotlib import pyplot as plt\n",
    "from sklearn.datasets import load_breast_cancer\n",
    "from sklearn.metrics import confusion_matrix\n",
    "from sklearn.neighbors import KNeighborsClassifier\n",
    "from sklearn.model_selection import train_test_split\n",
    "import seaborn as sns\n",
    "sns.set()\n",
    "import os"
   ]
  },
  {
   "cell_type": "code",
   "execution_count": 2,
   "id": "ee403884",
   "metadata": {},
   "outputs": [],
   "source": [
    "os.chdir(\"/Users/shree/Desktop/MLP\")"
   ]
  },
  {
   "cell_type": "code",
   "execution_count": 3,
   "id": "ff77f704",
   "metadata": {},
   "outputs": [
    {
     "data": {
      "text/plain": [
       "['.DS_Store',\n",
       " 'Water Treatment Plant',\n",
       " 'district wise rainfall normal.csv',\n",
       " 'Marketing Data KNN Classification.ipynb.webarchive',\n",
       " 'Loan Approval Prediction',\n",
       " 'OnlineNewsPopularity',\n",
       " '.gitattributes',\n",
       " 'Income Classifiction',\n",
       " '.ipynb_checkpoints',\n",
       " '.git',\n",
       " 'Regression',\n",
       " 'Bank Classification',\n",
       " 'GermanCredit',\n",
       " 'Real Fake News']"
      ]
     },
     "execution_count": 3,
     "metadata": {},
     "output_type": "execute_result"
    }
   ],
   "source": [
    "os.listdir()"
   ]
  },
  {
   "cell_type": "code",
   "execution_count": 4,
   "id": "f115aeeb",
   "metadata": {},
   "outputs": [],
   "source": [
    "A= pd.read_csv(\"german_credit_data.csv\")"
   ]
  },
  {
   "cell_type": "code",
   "execution_count": 5,
   "id": "36c4e904",
   "metadata": {},
   "outputs": [
    {
     "data": {
      "text/html": [
       "<div>\n",
       "<style scoped>\n",
       "    .dataframe tbody tr th:only-of-type {\n",
       "        vertical-align: middle;\n",
       "    }\n",
       "\n",
       "    .dataframe tbody tr th {\n",
       "        vertical-align: top;\n",
       "    }\n",
       "\n",
       "    .dataframe thead th {\n",
       "        text-align: right;\n",
       "    }\n",
       "</style>\n",
       "<table border=\"1\" class=\"dataframe\">\n",
       "  <thead>\n",
       "    <tr style=\"text-align: right;\">\n",
       "      <th></th>\n",
       "      <th>Unnamed: 0</th>\n",
       "      <th>Age</th>\n",
       "      <th>Sex</th>\n",
       "      <th>Job</th>\n",
       "      <th>Housing</th>\n",
       "      <th>Saving accounts</th>\n",
       "      <th>Checking account</th>\n",
       "      <th>Credit amount</th>\n",
       "      <th>Duration</th>\n",
       "      <th>Purpose</th>\n",
       "      <th>Risk</th>\n",
       "    </tr>\n",
       "  </thead>\n",
       "  <tbody>\n",
       "    <tr>\n",
       "      <th>0</th>\n",
       "      <td>0</td>\n",
       "      <td>67</td>\n",
       "      <td>male</td>\n",
       "      <td>2</td>\n",
       "      <td>own</td>\n",
       "      <td>NaN</td>\n",
       "      <td>little</td>\n",
       "      <td>1169</td>\n",
       "      <td>6</td>\n",
       "      <td>radio/TV</td>\n",
       "      <td>good</td>\n",
       "    </tr>\n",
       "    <tr>\n",
       "      <th>1</th>\n",
       "      <td>1</td>\n",
       "      <td>22</td>\n",
       "      <td>female</td>\n",
       "      <td>2</td>\n",
       "      <td>own</td>\n",
       "      <td>little</td>\n",
       "      <td>moderate</td>\n",
       "      <td>5951</td>\n",
       "      <td>48</td>\n",
       "      <td>radio/TV</td>\n",
       "      <td>bad</td>\n",
       "    </tr>\n",
       "    <tr>\n",
       "      <th>2</th>\n",
       "      <td>2</td>\n",
       "      <td>49</td>\n",
       "      <td>male</td>\n",
       "      <td>1</td>\n",
       "      <td>own</td>\n",
       "      <td>little</td>\n",
       "      <td>NaN</td>\n",
       "      <td>2096</td>\n",
       "      <td>12</td>\n",
       "      <td>education</td>\n",
       "      <td>good</td>\n",
       "    </tr>\n",
       "    <tr>\n",
       "      <th>3</th>\n",
       "      <td>3</td>\n",
       "      <td>45</td>\n",
       "      <td>male</td>\n",
       "      <td>2</td>\n",
       "      <td>free</td>\n",
       "      <td>little</td>\n",
       "      <td>little</td>\n",
       "      <td>7882</td>\n",
       "      <td>42</td>\n",
       "      <td>furniture/equipment</td>\n",
       "      <td>good</td>\n",
       "    </tr>\n",
       "    <tr>\n",
       "      <th>4</th>\n",
       "      <td>4</td>\n",
       "      <td>53</td>\n",
       "      <td>male</td>\n",
       "      <td>2</td>\n",
       "      <td>free</td>\n",
       "      <td>little</td>\n",
       "      <td>little</td>\n",
       "      <td>4870</td>\n",
       "      <td>24</td>\n",
       "      <td>car</td>\n",
       "      <td>bad</td>\n",
       "    </tr>\n",
       "  </tbody>\n",
       "</table>\n",
       "</div>"
      ],
      "text/plain": [
       "   Unnamed: 0  Age     Sex  Job Housing Saving accounts Checking account  \\\n",
       "0           0   67    male    2     own             NaN           little   \n",
       "1           1   22  female    2     own          little         moderate   \n",
       "2           2   49    male    1     own          little              NaN   \n",
       "3           3   45    male    2    free          little           little   \n",
       "4           4   53    male    2    free          little           little   \n",
       "\n",
       "   Credit amount  Duration              Purpose  Risk  \n",
       "0           1169         6             radio/TV  good  \n",
       "1           5951        48             radio/TV   bad  \n",
       "2           2096        12            education  good  \n",
       "3           7882        42  furniture/equipment  good  \n",
       "4           4870        24                  car   bad  "
      ]
     },
     "execution_count": 5,
     "metadata": {},
     "output_type": "execute_result"
    }
   ],
   "source": [
    "A.head()"
   ]
  },
  {
   "cell_type": "code",
   "execution_count": 6,
   "id": "becf65da",
   "metadata": {},
   "outputs": [
    {
     "data": {
      "text/html": [
       "<div>\n",
       "<style scoped>\n",
       "    .dataframe tbody tr th:only-of-type {\n",
       "        vertical-align: middle;\n",
       "    }\n",
       "\n",
       "    .dataframe tbody tr th {\n",
       "        vertical-align: top;\n",
       "    }\n",
       "\n",
       "    .dataframe thead th {\n",
       "        text-align: right;\n",
       "    }\n",
       "</style>\n",
       "<table border=\"1\" class=\"dataframe\">\n",
       "  <thead>\n",
       "    <tr style=\"text-align: right;\">\n",
       "      <th></th>\n",
       "      <th>Unnamed: 0</th>\n",
       "      <th>Age</th>\n",
       "      <th>Sex</th>\n",
       "      <th>Job</th>\n",
       "      <th>Housing</th>\n",
       "      <th>Saving accounts</th>\n",
       "      <th>Checking account</th>\n",
       "      <th>Credit amount</th>\n",
       "      <th>Duration</th>\n",
       "      <th>Purpose</th>\n",
       "      <th>Risk</th>\n",
       "    </tr>\n",
       "  </thead>\n",
       "  <tbody>\n",
       "    <tr>\n",
       "      <th>995</th>\n",
       "      <td>995</td>\n",
       "      <td>31</td>\n",
       "      <td>female</td>\n",
       "      <td>1</td>\n",
       "      <td>own</td>\n",
       "      <td>little</td>\n",
       "      <td>NaN</td>\n",
       "      <td>1736</td>\n",
       "      <td>12</td>\n",
       "      <td>furniture/equipment</td>\n",
       "      <td>good</td>\n",
       "    </tr>\n",
       "    <tr>\n",
       "      <th>996</th>\n",
       "      <td>996</td>\n",
       "      <td>40</td>\n",
       "      <td>male</td>\n",
       "      <td>3</td>\n",
       "      <td>own</td>\n",
       "      <td>little</td>\n",
       "      <td>little</td>\n",
       "      <td>3857</td>\n",
       "      <td>30</td>\n",
       "      <td>car</td>\n",
       "      <td>good</td>\n",
       "    </tr>\n",
       "    <tr>\n",
       "      <th>997</th>\n",
       "      <td>997</td>\n",
       "      <td>38</td>\n",
       "      <td>male</td>\n",
       "      <td>2</td>\n",
       "      <td>own</td>\n",
       "      <td>little</td>\n",
       "      <td>NaN</td>\n",
       "      <td>804</td>\n",
       "      <td>12</td>\n",
       "      <td>radio/TV</td>\n",
       "      <td>good</td>\n",
       "    </tr>\n",
       "    <tr>\n",
       "      <th>998</th>\n",
       "      <td>998</td>\n",
       "      <td>23</td>\n",
       "      <td>male</td>\n",
       "      <td>2</td>\n",
       "      <td>free</td>\n",
       "      <td>little</td>\n",
       "      <td>little</td>\n",
       "      <td>1845</td>\n",
       "      <td>45</td>\n",
       "      <td>radio/TV</td>\n",
       "      <td>bad</td>\n",
       "    </tr>\n",
       "    <tr>\n",
       "      <th>999</th>\n",
       "      <td>999</td>\n",
       "      <td>27</td>\n",
       "      <td>male</td>\n",
       "      <td>2</td>\n",
       "      <td>own</td>\n",
       "      <td>moderate</td>\n",
       "      <td>moderate</td>\n",
       "      <td>4576</td>\n",
       "      <td>45</td>\n",
       "      <td>car</td>\n",
       "      <td>good</td>\n",
       "    </tr>\n",
       "  </tbody>\n",
       "</table>\n",
       "</div>"
      ],
      "text/plain": [
       "     Unnamed: 0  Age     Sex  Job Housing Saving accounts Checking account  \\\n",
       "995         995   31  female    1     own          little              NaN   \n",
       "996         996   40    male    3     own          little           little   \n",
       "997         997   38    male    2     own          little              NaN   \n",
       "998         998   23    male    2    free          little           little   \n",
       "999         999   27    male    2     own        moderate         moderate   \n",
       "\n",
       "     Credit amount  Duration              Purpose  Risk  \n",
       "995           1736        12  furniture/equipment  good  \n",
       "996           3857        30                  car  good  \n",
       "997            804        12             radio/TV  good  \n",
       "998           1845        45             radio/TV   bad  \n",
       "999           4576        45                  car  good  "
      ]
     },
     "execution_count": 6,
     "metadata": {},
     "output_type": "execute_result"
    }
   ],
   "source": [
    "A.tail()"
   ]
  },
  {
   "cell_type": "code",
   "execution_count": 7,
   "id": "e50dee89",
   "metadata": {},
   "outputs": [
    {
     "data": {
      "text/plain": [
       "(1000, 11)"
      ]
     },
     "execution_count": 7,
     "metadata": {},
     "output_type": "execute_result"
    }
   ],
   "source": [
    "A.shape"
   ]
  },
  {
   "cell_type": "code",
   "execution_count": 8,
   "id": "2d4749e8",
   "metadata": {},
   "outputs": [
    {
     "name": "stdout",
     "output_type": "stream",
     "text": [
      "<class 'pandas.core.frame.DataFrame'>\n",
      "RangeIndex: 1000 entries, 0 to 999\n",
      "Data columns (total 11 columns):\n",
      " #   Column            Non-Null Count  Dtype \n",
      "---  ------            --------------  ----- \n",
      " 0   Unnamed: 0        1000 non-null   int64 \n",
      " 1   Age               1000 non-null   int64 \n",
      " 2   Sex               1000 non-null   object\n",
      " 3   Job               1000 non-null   int64 \n",
      " 4   Housing           1000 non-null   object\n",
      " 5   Saving accounts   817 non-null    object\n",
      " 6   Checking account  606 non-null    object\n",
      " 7   Credit amount     1000 non-null   int64 \n",
      " 8   Duration          1000 non-null   int64 \n",
      " 9   Purpose           1000 non-null   object\n",
      " 10  Risk              1000 non-null   object\n",
      "dtypes: int64(5), object(6)\n",
      "memory usage: 86.1+ KB\n"
     ]
    }
   ],
   "source": [
    "A.info()"
   ]
  },
  {
   "cell_type": "code",
   "execution_count": 9,
   "id": "99c32746",
   "metadata": {},
   "outputs": [
    {
     "data": {
      "text/html": [
       "<div>\n",
       "<style scoped>\n",
       "    .dataframe tbody tr th:only-of-type {\n",
       "        vertical-align: middle;\n",
       "    }\n",
       "\n",
       "    .dataframe tbody tr th {\n",
       "        vertical-align: top;\n",
       "    }\n",
       "\n",
       "    .dataframe thead th {\n",
       "        text-align: right;\n",
       "    }\n",
       "</style>\n",
       "<table border=\"1\" class=\"dataframe\">\n",
       "  <thead>\n",
       "    <tr style=\"text-align: right;\">\n",
       "      <th></th>\n",
       "      <th>Unnamed: 0</th>\n",
       "      <th>Age</th>\n",
       "      <th>Job</th>\n",
       "      <th>Credit amount</th>\n",
       "      <th>Duration</th>\n",
       "    </tr>\n",
       "  </thead>\n",
       "  <tbody>\n",
       "    <tr>\n",
       "      <th>count</th>\n",
       "      <td>1000.000000</td>\n",
       "      <td>1000.000000</td>\n",
       "      <td>1000.000000</td>\n",
       "      <td>1000.000000</td>\n",
       "      <td>1000.000000</td>\n",
       "    </tr>\n",
       "    <tr>\n",
       "      <th>mean</th>\n",
       "      <td>499.500000</td>\n",
       "      <td>35.546000</td>\n",
       "      <td>1.904000</td>\n",
       "      <td>3271.258000</td>\n",
       "      <td>20.903000</td>\n",
       "    </tr>\n",
       "    <tr>\n",
       "      <th>std</th>\n",
       "      <td>288.819436</td>\n",
       "      <td>11.375469</td>\n",
       "      <td>0.653614</td>\n",
       "      <td>2822.736876</td>\n",
       "      <td>12.058814</td>\n",
       "    </tr>\n",
       "    <tr>\n",
       "      <th>min</th>\n",
       "      <td>0.000000</td>\n",
       "      <td>19.000000</td>\n",
       "      <td>0.000000</td>\n",
       "      <td>250.000000</td>\n",
       "      <td>4.000000</td>\n",
       "    </tr>\n",
       "    <tr>\n",
       "      <th>25%</th>\n",
       "      <td>249.750000</td>\n",
       "      <td>27.000000</td>\n",
       "      <td>2.000000</td>\n",
       "      <td>1365.500000</td>\n",
       "      <td>12.000000</td>\n",
       "    </tr>\n",
       "    <tr>\n",
       "      <th>50%</th>\n",
       "      <td>499.500000</td>\n",
       "      <td>33.000000</td>\n",
       "      <td>2.000000</td>\n",
       "      <td>2319.500000</td>\n",
       "      <td>18.000000</td>\n",
       "    </tr>\n",
       "    <tr>\n",
       "      <th>75%</th>\n",
       "      <td>749.250000</td>\n",
       "      <td>42.000000</td>\n",
       "      <td>2.000000</td>\n",
       "      <td>3972.250000</td>\n",
       "      <td>24.000000</td>\n",
       "    </tr>\n",
       "    <tr>\n",
       "      <th>max</th>\n",
       "      <td>999.000000</td>\n",
       "      <td>75.000000</td>\n",
       "      <td>3.000000</td>\n",
       "      <td>18424.000000</td>\n",
       "      <td>72.000000</td>\n",
       "    </tr>\n",
       "  </tbody>\n",
       "</table>\n",
       "</div>"
      ],
      "text/plain": [
       "        Unnamed: 0          Age          Job  Credit amount     Duration\n",
       "count  1000.000000  1000.000000  1000.000000    1000.000000  1000.000000\n",
       "mean    499.500000    35.546000     1.904000    3271.258000    20.903000\n",
       "std     288.819436    11.375469     0.653614    2822.736876    12.058814\n",
       "min       0.000000    19.000000     0.000000     250.000000     4.000000\n",
       "25%     249.750000    27.000000     2.000000    1365.500000    12.000000\n",
       "50%     499.500000    33.000000     2.000000    2319.500000    18.000000\n",
       "75%     749.250000    42.000000     2.000000    3972.250000    24.000000\n",
       "max     999.000000    75.000000     3.000000   18424.000000    72.000000"
      ]
     },
     "execution_count": 9,
     "metadata": {},
     "output_type": "execute_result"
    }
   ],
   "source": [
    "A.describe()"
   ]
  },
  {
   "cell_type": "code",
   "execution_count": 10,
   "id": "87a94675",
   "metadata": {},
   "outputs": [
    {
     "data": {
      "text/plain": [
       "Unnamed: 0            0\n",
       "Age                   0\n",
       "Sex                   0\n",
       "Job                   0\n",
       "Housing               0\n",
       "Saving accounts     183\n",
       "Checking account    394\n",
       "Credit amount         0\n",
       "Duration              0\n",
       "Purpose               0\n",
       "Risk                  0\n",
       "dtype: int64"
      ]
     },
     "execution_count": 10,
     "metadata": {},
     "output_type": "execute_result"
    }
   ],
   "source": [
    "A.isnull().sum()"
   ]
  },
  {
   "cell_type": "code",
   "execution_count": 11,
   "id": "425881d0",
   "metadata": {},
   "outputs": [
    {
     "data": {
      "text/html": [
       "<div>\n",
       "<style scoped>\n",
       "    .dataframe tbody tr th:only-of-type {\n",
       "        vertical-align: middle;\n",
       "    }\n",
       "\n",
       "    .dataframe tbody tr th {\n",
       "        vertical-align: top;\n",
       "    }\n",
       "\n",
       "    .dataframe thead th {\n",
       "        text-align: right;\n",
       "    }\n",
       "</style>\n",
       "<table border=\"1\" class=\"dataframe\">\n",
       "  <thead>\n",
       "    <tr style=\"text-align: right;\">\n",
       "      <th></th>\n",
       "      <th>Unnamed: 0</th>\n",
       "      <th>Age</th>\n",
       "      <th>Sex</th>\n",
       "      <th>Job</th>\n",
       "      <th>Housing</th>\n",
       "      <th>Saving accounts</th>\n",
       "      <th>Checking account</th>\n",
       "      <th>Credit amount</th>\n",
       "      <th>Duration</th>\n",
       "      <th>Purpose</th>\n",
       "      <th>Risk</th>\n",
       "    </tr>\n",
       "  </thead>\n",
       "  <tbody>\n",
       "    <tr>\n",
       "      <th>0</th>\n",
       "      <td>0</td>\n",
       "      <td>67</td>\n",
       "      <td>male</td>\n",
       "      <td>2</td>\n",
       "      <td>own</td>\n",
       "      <td>NaN</td>\n",
       "      <td>little</td>\n",
       "      <td>1169</td>\n",
       "      <td>6</td>\n",
       "      <td>radio/TV</td>\n",
       "      <td>good</td>\n",
       "    </tr>\n",
       "    <tr>\n",
       "      <th>1</th>\n",
       "      <td>1</td>\n",
       "      <td>22</td>\n",
       "      <td>female</td>\n",
       "      <td>2</td>\n",
       "      <td>own</td>\n",
       "      <td>little</td>\n",
       "      <td>moderate</td>\n",
       "      <td>5951</td>\n",
       "      <td>48</td>\n",
       "      <td>radio/TV</td>\n",
       "      <td>bad</td>\n",
       "    </tr>\n",
       "    <tr>\n",
       "      <th>2</th>\n",
       "      <td>2</td>\n",
       "      <td>49</td>\n",
       "      <td>male</td>\n",
       "      <td>1</td>\n",
       "      <td>own</td>\n",
       "      <td>little</td>\n",
       "      <td>NaN</td>\n",
       "      <td>2096</td>\n",
       "      <td>12</td>\n",
       "      <td>education</td>\n",
       "      <td>good</td>\n",
       "    </tr>\n",
       "    <tr>\n",
       "      <th>3</th>\n",
       "      <td>3</td>\n",
       "      <td>45</td>\n",
       "      <td>male</td>\n",
       "      <td>2</td>\n",
       "      <td>free</td>\n",
       "      <td>little</td>\n",
       "      <td>little</td>\n",
       "      <td>7882</td>\n",
       "      <td>42</td>\n",
       "      <td>furniture/equipment</td>\n",
       "      <td>good</td>\n",
       "    </tr>\n",
       "    <tr>\n",
       "      <th>4</th>\n",
       "      <td>4</td>\n",
       "      <td>53</td>\n",
       "      <td>male</td>\n",
       "      <td>2</td>\n",
       "      <td>free</td>\n",
       "      <td>little</td>\n",
       "      <td>little</td>\n",
       "      <td>4870</td>\n",
       "      <td>24</td>\n",
       "      <td>car</td>\n",
       "      <td>bad</td>\n",
       "    </tr>\n",
       "  </tbody>\n",
       "</table>\n",
       "</div>"
      ],
      "text/plain": [
       "   Unnamed: 0  Age     Sex  Job Housing Saving accounts Checking account  \\\n",
       "0           0   67    male    2     own             NaN           little   \n",
       "1           1   22  female    2     own          little         moderate   \n",
       "2           2   49    male    1     own          little              NaN   \n",
       "3           3   45    male    2    free          little           little   \n",
       "4           4   53    male    2    free          little           little   \n",
       "\n",
       "   Credit amount  Duration              Purpose  Risk  \n",
       "0           1169         6             radio/TV  good  \n",
       "1           5951        48             radio/TV   bad  \n",
       "2           2096        12            education  good  \n",
       "3           7882        42  furniture/equipment  good  \n",
       "4           4870        24                  car   bad  "
      ]
     },
     "execution_count": 11,
     "metadata": {},
     "output_type": "execute_result"
    }
   ],
   "source": [
    "A.head()"
   ]
  },
  {
   "cell_type": "code",
   "execution_count": 12,
   "id": "c9b73f1e",
   "metadata": {},
   "outputs": [
    {
     "data": {
      "text/plain": [
       "11"
      ]
     },
     "execution_count": 12,
     "metadata": {},
     "output_type": "execute_result"
    }
   ],
   "source": [
    "len(A.columns)"
   ]
  },
  {
   "cell_type": "code",
   "execution_count": 13,
   "id": "cdd5f32b",
   "metadata": {},
   "outputs": [
    {
     "data": {
      "text/plain": [
       "0    67\n",
       "1    22\n",
       "2    49\n",
       "3    45\n",
       "4    53\n",
       "Name: Age, dtype: int64"
      ]
     },
     "execution_count": 13,
     "metadata": {},
     "output_type": "execute_result"
    }
   ],
   "source": [
    "A['Age'][0:5]"
   ]
  },
  {
   "cell_type": "code",
   "execution_count": 14,
   "id": "46d85b0c",
   "metadata": {},
   "outputs": [
    {
     "data": {
      "text/plain": [
       "Unnamed: 0           int64\n",
       "Age                  int64\n",
       "Sex                 object\n",
       "Job                  int64\n",
       "Housing             object\n",
       "Saving accounts     object\n",
       "Checking account    object\n",
       "Credit amount        int64\n",
       "Duration             int64\n",
       "Purpose             object\n",
       "Risk                object\n",
       "dtype: object"
      ]
     },
     "execution_count": 14,
     "metadata": {},
     "output_type": "execute_result"
    }
   ],
   "source": [
    "A.dtypes"
   ]
  },
  {
   "cell_type": "code",
   "execution_count": 15,
   "id": "ce0863af",
   "metadata": {},
   "outputs": [
    {
     "data": {
      "text/plain": [
       "array([67, 22, 49, 45, 53, 35, 61, 28, 25, 24, 60, 32, 44, 31, 48, 26, 36,\n",
       "       39, 42, 34, 63, 27, 30, 57, 33, 37, 58, 23, 29, 52, 50, 46, 51, 41,\n",
       "       40, 66, 47, 56, 54, 20, 21, 38, 70, 65, 74, 68, 43, 55, 64, 75, 19,\n",
       "       62, 59])"
      ]
     },
     "execution_count": 15,
     "metadata": {},
     "output_type": "execute_result"
    }
   ],
   "source": [
    "A.Age.unique()"
   ]
  },
  {
   "cell_type": "code",
   "execution_count": 16,
   "id": "b39a96bb",
   "metadata": {},
   "outputs": [
    {
     "data": {
      "text/plain": [
       "Index(['Unnamed: 0', 'Age', 'Sex', 'Job', 'Housing', 'Saving accounts',\n",
       "       'Checking account', 'Credit amount', 'Duration', 'Purpose', 'Risk'],\n",
       "      dtype='object')"
      ]
     },
     "execution_count": 16,
     "metadata": {},
     "output_type": "execute_result"
    }
   ],
   "source": [
    "A.columns"
   ]
  },
  {
   "cell_type": "code",
   "execution_count": 17,
   "id": "0ff9cb81",
   "metadata": {},
   "outputs": [
    {
     "data": {
      "text/plain": [
       "array(['good', 'bad'], dtype=object)"
      ]
     },
     "execution_count": 17,
     "metadata": {},
     "output_type": "execute_result"
    }
   ],
   "source": [
    "A.Risk.unique()"
   ]
  },
  {
   "cell_type": "code",
   "execution_count": 18,
   "id": "684a442a",
   "metadata": {},
   "outputs": [
    {
     "data": {
      "text/plain": [
       "array([2, 1, 3, 0])"
      ]
     },
     "execution_count": 18,
     "metadata": {},
     "output_type": "execute_result"
    }
   ],
   "source": [
    "A.Job.unique()"
   ]
  },
  {
   "cell_type": "code",
   "execution_count": 19,
   "id": "f32a458b",
   "metadata": {},
   "outputs": [
    {
     "data": {
      "text/plain": [
       "array(['own', 'free', 'rent'], dtype=object)"
      ]
     },
     "execution_count": 19,
     "metadata": {},
     "output_type": "execute_result"
    }
   ],
   "source": [
    "A.Housing.unique()"
   ]
  },
  {
   "cell_type": "code",
   "execution_count": 20,
   "id": "4b24aef5",
   "metadata": {},
   "outputs": [
    {
     "data": {
      "text/plain": [
       "array(['radio/TV', 'education', 'furniture/equipment', 'car', 'business',\n",
       "       'domestic appliances', 'repairs', 'vacation/others'], dtype=object)"
      ]
     },
     "execution_count": 20,
     "metadata": {},
     "output_type": "execute_result"
    }
   ],
   "source": [
    "A.Purpose.unique()"
   ]
  },
  {
   "cell_type": "code",
   "execution_count": 21,
   "id": "4996ca22",
   "metadata": {},
   "outputs": [
    {
     "data": {
      "text/plain": [
       "little        603\n",
       "moderate      103\n",
       "quite rich     63\n",
       "rich           48\n",
       "Name: Saving accounts, dtype: int64"
      ]
     },
     "execution_count": 21,
     "metadata": {},
     "output_type": "execute_result"
    }
   ],
   "source": [
    "A['Saving accounts'].value_counts()"
   ]
  },
  {
   "cell_type": "code",
   "execution_count": 22,
   "id": "9bcc30af",
   "metadata": {},
   "outputs": [
    {
     "data": {
      "text/plain": [
       "1258    3\n",
       "1262    3\n",
       "1393    3\n",
       "1478    3\n",
       "1275    3\n",
       "       ..\n",
       "759     1\n",
       "760     1\n",
       "763     1\n",
       "2812    1\n",
       "6143    1\n",
       "Name: Credit amount, Length: 921, dtype: int64"
      ]
     },
     "execution_count": 22,
     "metadata": {},
     "output_type": "execute_result"
    }
   ],
   "source": [
    "A['Credit amount'].value_counts()"
   ]
  },
  {
   "cell_type": "code",
   "execution_count": 23,
   "id": "81a25580",
   "metadata": {},
   "outputs": [
    {
     "data": {
      "text/plain": [
       "little      274\n",
       "moderate    269\n",
       "rich         63\n",
       "Name: Checking account, dtype: int64"
      ]
     },
     "execution_count": 23,
     "metadata": {},
     "output_type": "execute_result"
    }
   ],
   "source": [
    "A['Checking account'].value_counts()"
   ]
  },
  {
   "cell_type": "code",
   "execution_count": 24,
   "id": "c97df18b",
   "metadata": {},
   "outputs": [],
   "source": [
    "num_a=['Age' , 'Credit amount' , 'Duration']\n",
    "\n",
    "cat_a=['Sex' , 'Job' , 'Housing' , 'Saving accounts' , 'Checking account' , 'Purpose']"
   ]
  },
  {
   "cell_type": "code",
   "execution_count": 25,
   "id": "e439606a",
   "metadata": {},
   "outputs": [
    {
     "data": {
      "text/html": [
       "<div>\n",
       "<style scoped>\n",
       "    .dataframe tbody tr th:only-of-type {\n",
       "        vertical-align: middle;\n",
       "    }\n",
       "\n",
       "    .dataframe tbody tr th {\n",
       "        vertical-align: top;\n",
       "    }\n",
       "\n",
       "    .dataframe thead th {\n",
       "        text-align: right;\n",
       "    }\n",
       "</style>\n",
       "<table border=\"1\" class=\"dataframe\">\n",
       "  <thead>\n",
       "    <tr style=\"text-align: right;\">\n",
       "      <th></th>\n",
       "      <th>Unnamed: 0</th>\n",
       "      <th>Age</th>\n",
       "      <th>Job</th>\n",
       "      <th>Credit amount</th>\n",
       "      <th>Duration</th>\n",
       "    </tr>\n",
       "  </thead>\n",
       "  <tbody>\n",
       "    <tr>\n",
       "      <th>Unnamed: 0</th>\n",
       "      <td>1.000000</td>\n",
       "      <td>-0.010096</td>\n",
       "      <td>-0.027345</td>\n",
       "      <td>0.013488</td>\n",
       "      <td>0.030788</td>\n",
       "    </tr>\n",
       "    <tr>\n",
       "      <th>Age</th>\n",
       "      <td>-0.010096</td>\n",
       "      <td>1.000000</td>\n",
       "      <td>0.015673</td>\n",
       "      <td>0.032716</td>\n",
       "      <td>-0.036136</td>\n",
       "    </tr>\n",
       "    <tr>\n",
       "      <th>Job</th>\n",
       "      <td>-0.027345</td>\n",
       "      <td>0.015673</td>\n",
       "      <td>1.000000</td>\n",
       "      <td>0.285385</td>\n",
       "      <td>0.210910</td>\n",
       "    </tr>\n",
       "    <tr>\n",
       "      <th>Credit amount</th>\n",
       "      <td>0.013488</td>\n",
       "      <td>0.032716</td>\n",
       "      <td>0.285385</td>\n",
       "      <td>1.000000</td>\n",
       "      <td>0.624984</td>\n",
       "    </tr>\n",
       "    <tr>\n",
       "      <th>Duration</th>\n",
       "      <td>0.030788</td>\n",
       "      <td>-0.036136</td>\n",
       "      <td>0.210910</td>\n",
       "      <td>0.624984</td>\n",
       "      <td>1.000000</td>\n",
       "    </tr>\n",
       "  </tbody>\n",
       "</table>\n",
       "</div>"
      ],
      "text/plain": [
       "               Unnamed: 0       Age       Job  Credit amount  Duration\n",
       "Unnamed: 0       1.000000 -0.010096 -0.027345       0.013488  0.030788\n",
       "Age             -0.010096  1.000000  0.015673       0.032716 -0.036136\n",
       "Job             -0.027345  0.015673  1.000000       0.285385  0.210910\n",
       "Credit amount    0.013488  0.032716  0.285385       1.000000  0.624984\n",
       "Duration         0.030788 -0.036136  0.210910       0.624984  1.000000"
      ]
     },
     "execution_count": 25,
     "metadata": {},
     "output_type": "execute_result"
    }
   ],
   "source": [
    "A.corr()"
   ]
  },
  {
   "cell_type": "code",
   "execution_count": 26,
   "id": "cb172570",
   "metadata": {},
   "outputs": [
    {
     "data": {
      "image/png": "[encoded data removed]",
      "text/plain": [
       "<Figure size 1080x1080 with 4 Axes>"
      ]
     },
     "metadata": {},
     "output_type": "display_data"
    }
   ],
   "source": [
    "A[num_a].hist(bins=40, figsize=(15,15)) \n",
    "plt.show()"
   ]
  },
  {
   "cell_type": "code",
   "execution_count": 27,
   "id": "61449d0c",
   "metadata": {},
   "outputs": [
    {
     "data": {
      "text/html": [
       "<div>\n",
       "<style scoped>\n",
       "    .dataframe tbody tr th:only-of-type {\n",
       "        vertical-align: middle;\n",
       "    }\n",
       "\n",
       "    .dataframe tbody tr th {\n",
       "        vertical-align: top;\n",
       "    }\n",
       "\n",
       "    .dataframe thead th {\n",
       "        text-align: right;\n",
       "    }\n",
       "</style>\n",
       "<table border=\"1\" class=\"dataframe\">\n",
       "  <thead>\n",
       "    <tr style=\"text-align: right;\">\n",
       "      <th></th>\n",
       "      <th>Age</th>\n",
       "      <th>Sex</th>\n",
       "      <th>Job</th>\n",
       "      <th>Housing</th>\n",
       "      <th>Saving accounts</th>\n",
       "      <th>Checking account</th>\n",
       "      <th>Credit amount</th>\n",
       "      <th>Duration</th>\n",
       "      <th>Purpose</th>\n",
       "      <th>Risk</th>\n",
       "    </tr>\n",
       "  </thead>\n",
       "  <tbody>\n",
       "    <tr>\n",
       "      <th>0</th>\n",
       "      <td>67</td>\n",
       "      <td>male</td>\n",
       "      <td>2</td>\n",
       "      <td>own</td>\n",
       "      <td>NaN</td>\n",
       "      <td>little</td>\n",
       "      <td>1169</td>\n",
       "      <td>6</td>\n",
       "      <td>radio/TV</td>\n",
       "      <td>good</td>\n",
       "    </tr>\n",
       "    <tr>\n",
       "      <th>1</th>\n",
       "      <td>22</td>\n",
       "      <td>female</td>\n",
       "      <td>2</td>\n",
       "      <td>own</td>\n",
       "      <td>little</td>\n",
       "      <td>moderate</td>\n",
       "      <td>5951</td>\n",
       "      <td>48</td>\n",
       "      <td>radio/TV</td>\n",
       "      <td>bad</td>\n",
       "    </tr>\n",
       "    <tr>\n",
       "      <th>2</th>\n",
       "      <td>49</td>\n",
       "      <td>male</td>\n",
       "      <td>1</td>\n",
       "      <td>own</td>\n",
       "      <td>little</td>\n",
       "      <td>NaN</td>\n",
       "      <td>2096</td>\n",
       "      <td>12</td>\n",
       "      <td>education</td>\n",
       "      <td>good</td>\n",
       "    </tr>\n",
       "    <tr>\n",
       "      <th>3</th>\n",
       "      <td>45</td>\n",
       "      <td>male</td>\n",
       "      <td>2</td>\n",
       "      <td>free</td>\n",
       "      <td>little</td>\n",
       "      <td>little</td>\n",
       "      <td>7882</td>\n",
       "      <td>42</td>\n",
       "      <td>furniture/equipment</td>\n",
       "      <td>good</td>\n",
       "    </tr>\n",
       "    <tr>\n",
       "      <th>4</th>\n",
       "      <td>53</td>\n",
       "      <td>male</td>\n",
       "      <td>2</td>\n",
       "      <td>free</td>\n",
       "      <td>little</td>\n",
       "      <td>little</td>\n",
       "      <td>4870</td>\n",
       "      <td>24</td>\n",
       "      <td>car</td>\n",
       "      <td>bad</td>\n",
       "    </tr>\n",
       "  </tbody>\n",
       "</table>\n",
       "</div>"
      ],
      "text/plain": [
       "   Age     Sex  Job Housing Saving accounts Checking account  Credit amount  \\\n",
       "0   67    male    2     own             NaN           little           1169   \n",
       "1   22  female    2     own          little         moderate           5951   \n",
       "2   49    male    1     own          little              NaN           2096   \n",
       "3   45    male    2    free          little           little           7882   \n",
       "4   53    male    2    free          little           little           4870   \n",
       "\n",
       "   Duration              Purpose  Risk  \n",
       "0         6             radio/TV  good  \n",
       "1        48             radio/TV   bad  \n",
       "2        12            education  good  \n",
       "3        42  furniture/equipment  good  \n",
       "4        24                  car   bad  "
      ]
     },
     "execution_count": 27,
     "metadata": {},
     "output_type": "execute_result"
    }
   ],
   "source": [
    "A = A.drop('Unnamed: 0', axis='columns')\n",
    "A.head()"
   ]
  },
  {
   "cell_type": "code",
   "execution_count": 28,
   "id": "cb521057",
   "metadata": {},
   "outputs": [
    {
     "data": {
      "image/png": "[encoded data removed]",
      "text/plain": [
       "<Figure size 432x288 with 1 Axes>"
      ]
     },
     "metadata": {},
     "output_type": "display_data"
    }
   ],
   "source": [
    "sns.countplot(data=A, x='Sex', hue='Purpose')\n",
    "plt.show()"
   ]
  },
  {
   "cell_type": "code",
   "execution_count": 29,
   "id": "79434bb9",
   "metadata": {},
   "outputs": [
    {
     "data": {
      "image/png": "[encoded data removed]",
      "text/plain": [
       "<Figure size 360x360 with 1 Axes>"
      ]
     },
     "metadata": {},
     "output_type": "display_data"
    }
   ],
   "source": [
    "sns.catplot(data=A, x='Sex', y='Age', kind='box')\n",
    "plt.show()"
   ]
  },
  {
   "cell_type": "code",
   "execution_count": 30,
   "id": "644b8d8d",
   "metadata": {},
   "outputs": [
    {
     "data": {
      "image/png": "[encoded data removed]",
      "text/plain": [
       "<Figure size 432x288 with 1 Axes>"
      ]
     },
     "metadata": {},
     "output_type": "display_data"
    }
   ],
   "source": [
    "sns.violinplot(data=A, x='Sex', y='Age', hue='Risk', split=True)\n",
    "plt.show()"
   ]
  },
  {
   "cell_type": "code",
   "execution_count": 31,
   "id": "3124981e",
   "metadata": {},
   "outputs": [
    {
     "data": {
      "image/png": "[encoded data removed]",
      "text/plain": [
       "<Figure size 720x720 with 4 Axes>"
      ]
     },
     "metadata": {},
     "output_type": "display_data"
    }
   ],
   "source": [
    "sns.displot(data=A, row='Sex', y='Age', col='Risk')\n",
    "plt.show()"
   ]
  },
  {
   "cell_type": "code",
   "execution_count": 32,
   "id": "da3a00c3",
   "metadata": {},
   "outputs": [],
   "source": [
    "A['Saving accounts'] = A['Saving accounts'].fillna('Nil')"
   ]
  },
  {
   "cell_type": "code",
   "execution_count": 33,
   "id": "1da22eed",
   "metadata": {},
   "outputs": [
    {
     "data": {
      "text/html": [
       "<div>\n",
       "<style scoped>\n",
       "    .dataframe tbody tr th:only-of-type {\n",
       "        vertical-align: middle;\n",
       "    }\n",
       "\n",
       "    .dataframe tbody tr th {\n",
       "        vertical-align: top;\n",
       "    }\n",
       "\n",
       "    .dataframe thead th {\n",
       "        text-align: right;\n",
       "    }\n",
       "</style>\n",
       "<table border=\"1\" class=\"dataframe\">\n",
       "  <thead>\n",
       "    <tr style=\"text-align: right;\">\n",
       "      <th></th>\n",
       "      <th>Age</th>\n",
       "      <th>Sex</th>\n",
       "      <th>Job</th>\n",
       "      <th>Housing</th>\n",
       "      <th>Saving accounts</th>\n",
       "      <th>Checking account</th>\n",
       "      <th>Credit amount</th>\n",
       "      <th>Duration</th>\n",
       "      <th>Purpose</th>\n",
       "      <th>Risk</th>\n",
       "    </tr>\n",
       "  </thead>\n",
       "  <tbody>\n",
       "    <tr>\n",
       "      <th>0</th>\n",
       "      <td>67</td>\n",
       "      <td>male</td>\n",
       "      <td>2</td>\n",
       "      <td>own</td>\n",
       "      <td>Nil</td>\n",
       "      <td>little</td>\n",
       "      <td>1169</td>\n",
       "      <td>6</td>\n",
       "      <td>radio/TV</td>\n",
       "      <td>good</td>\n",
       "    </tr>\n",
       "    <tr>\n",
       "      <th>1</th>\n",
       "      <td>22</td>\n",
       "      <td>female</td>\n",
       "      <td>2</td>\n",
       "      <td>own</td>\n",
       "      <td>little</td>\n",
       "      <td>moderate</td>\n",
       "      <td>5951</td>\n",
       "      <td>48</td>\n",
       "      <td>radio/TV</td>\n",
       "      <td>bad</td>\n",
       "    </tr>\n",
       "    <tr>\n",
       "      <th>2</th>\n",
       "      <td>49</td>\n",
       "      <td>male</td>\n",
       "      <td>1</td>\n",
       "      <td>own</td>\n",
       "      <td>little</td>\n",
       "      <td>NaN</td>\n",
       "      <td>2096</td>\n",
       "      <td>12</td>\n",
       "      <td>education</td>\n",
       "      <td>good</td>\n",
       "    </tr>\n",
       "    <tr>\n",
       "      <th>3</th>\n",
       "      <td>45</td>\n",
       "      <td>male</td>\n",
       "      <td>2</td>\n",
       "      <td>free</td>\n",
       "      <td>little</td>\n",
       "      <td>little</td>\n",
       "      <td>7882</td>\n",
       "      <td>42</td>\n",
       "      <td>furniture/equipment</td>\n",
       "      <td>good</td>\n",
       "    </tr>\n",
       "    <tr>\n",
       "      <th>4</th>\n",
       "      <td>53</td>\n",
       "      <td>male</td>\n",
       "      <td>2</td>\n",
       "      <td>free</td>\n",
       "      <td>little</td>\n",
       "      <td>little</td>\n",
       "      <td>4870</td>\n",
       "      <td>24</td>\n",
       "      <td>car</td>\n",
       "      <td>bad</td>\n",
       "    </tr>\n",
       "  </tbody>\n",
       "</table>\n",
       "</div>"
      ],
      "text/plain": [
       "   Age     Sex  Job Housing Saving accounts Checking account  Credit amount  \\\n",
       "0   67    male    2     own             Nil           little           1169   \n",
       "1   22  female    2     own          little         moderate           5951   \n",
       "2   49    male    1     own          little              NaN           2096   \n",
       "3   45    male    2    free          little           little           7882   \n",
       "4   53    male    2    free          little           little           4870   \n",
       "\n",
       "   Duration              Purpose  Risk  \n",
       "0         6             radio/TV  good  \n",
       "1        48             radio/TV   bad  \n",
       "2        12            education  good  \n",
       "3        42  furniture/equipment  good  \n",
       "4        24                  car   bad  "
      ]
     },
     "execution_count": 33,
     "metadata": {},
     "output_type": "execute_result"
    }
   ],
   "source": [
    "A.head()"
   ]
  },
  {
   "cell_type": "code",
   "execution_count": 34,
   "id": "6ff3d5eb",
   "metadata": {},
   "outputs": [],
   "source": [
    "from sklearn.model_selection import train_test_split\n",
    "from sklearn.preprocessing import StandardScaler\n",
    "from sklearn.tree import DecisionTreeClassifier\n",
    "from sklearn.tree import export_graphviz\n",
    "from sklearn.datasets import load_iris\n",
    "from sklearn.tree import plot_tree\n",
    "import matplotlib.pyplot as plt\n",
    "from IPython.core.interactiveshell import InteractiveShell\n",
    "InteractiveShell.ast_node_interactivity = \"all\"\n",
    "from sklearn.preprocessing import LabelEncoder"
   ]
  },
  {
   "cell_type": "code",
   "execution_count": 44,
   "id": "1a1d2f2a",
   "metadata": {},
   "outputs": [],
   "source": [
    "X= A.drop(['Risk'], axis=1)\n",
    "y= A['Risk']\n",
    "X_train,X_test,y_train,y_test=train_test_split(X,y,test_size=0.3,random_state=30)"
   ]
  },
  {
   "cell_type": "markdown",
   "id": "4744132e",
   "metadata": {},
   "source": [
    "# DecisionTree"
   ]
  },
  {
   "cell_type": "code",
   "execution_count": 45,
   "id": "f61b5495",
   "metadata": {},
   "outputs": [],
   "source": [
    "D= DecisionTreeClassifier(criterion=\"gini\", max_depth=None)"
   ]
  },
  {
   "cell_type": "code",
   "execution_count": 46,
   "id": "570d5fa5",
   "metadata": {},
   "outputs": [
    {
     "name": "stderr",
     "output_type": "stream",
     "text": [
      "/Users/shree/opt/anaconda3/lib/python3.8/site-packages/pandas/core/frame.py:3191: SettingWithCopyWarning: \n",
      "A value is trying to be set on a copy of a slice from a DataFrame.\n",
      "Try using .loc[row_indexer,col_indexer] = value instead\n",
      "\n",
      "See the caveats in the documentation: https://pandas.pydata.org/pandas-docs/stable/user_guide/indexing.html#returning-a-view-versus-a-copy\n",
      "  self[k1] = value[k2]\n"
     ]
    }
   ],
   "source": [
    "le = LabelEncoder()\n",
    "X_train[cat_a] = X_train[cat_a].apply(le.fit_transform)"
   ]
  },
  {
   "cell_type": "code",
   "execution_count": 47,
   "id": "06f86653",
   "metadata": {},
   "outputs": [
    {
     "data": {
      "text/plain": [
       "array([[-1.02851468,  0.40300195, -0.08813726],\n",
       "       [-0.94000223, -0.39736959, -1.01022548],\n",
       "       [ 0.65322189, -0.21413846, -0.42344207],\n",
       "       ...,\n",
       "       [-0.40892752, -0.618446  , -0.92639928],\n",
       "       [-0.49743997, -0.43783781, -0.75874688],\n",
       "       [-1.02851468,  2.27615613,  1.25308196]])"
      ]
     },
     "execution_count": 47,
     "metadata": {},
     "output_type": "execute_result"
    }
   ],
   "source": [
    "ss = StandardScaler()\n",
    "ss.fit_transform(X_train[num_a])"
   ]
  },
  {
   "cell_type": "code",
   "execution_count": 48,
   "id": "a6ac1992",
   "metadata": {},
   "outputs": [
    {
     "data": {
      "text/plain": [
       "(700, 9)"
      ]
     },
     "execution_count": 48,
     "metadata": {},
     "output_type": "execute_result"
    }
   ],
   "source": [
    "a = X_train[cat_a]\n",
    "b = ss.transform(X_train[num_a])\n",
    "\n",
    "Xtr = np.hstack([a,b])\n",
    "Xtr.shape "
   ]
  },
  {
   "cell_type": "code",
   "execution_count": 49,
   "id": "e0361f24",
   "metadata": {},
   "outputs": [],
   "source": [
    "D = DecisionTreeClassifier(criterion=\"gini\", max_depth=None)"
   ]
  },
  {
   "cell_type": "code",
   "execution_count": 50,
   "id": "adc1e7ac",
   "metadata": {},
   "outputs": [
    {
     "data": {
      "text/plain": [
       "DecisionTreeClassifier()"
      ]
     },
     "execution_count": 50,
     "metadata": {},
     "output_type": "execute_result"
    }
   ],
   "source": [
    "D.fit(Xtr,y_train)"
   ]
  },
  {
   "cell_type": "code",
   "execution_count": 51,
   "id": "2d8d74bf",
   "metadata": {},
   "outputs": [
    {
     "data": {
      "text/plain": [
       "(300, 9)"
      ]
     },
     "execution_count": 51,
     "metadata": {},
     "output_type": "execute_result"
    }
   ],
   "source": [
    "a1 = X_test[cat_a]\n",
    "b1 = ss.transform(X_test[num_a])\n",
    "\n",
    "Xtr1 = np.hstack([a1,b1]) \n",
    "Xtr1.shape "
   ]
  },
  {
   "cell_type": "code",
   "execution_count": 52,
   "id": "23bb2856",
   "metadata": {},
   "outputs": [
    {
     "data": {
      "text/plain": [
       "array([[-4.65867625e-01, -4.59526348e-01, -6.94037034e-01],\n",
       "       [ 1.41031886e-01,  2.96114764e+00,  2.22594737e+00],\n",
       "       [ 4.01131677e-01, -6.63550916e-01, -1.18070110e+00],\n",
       "       [ 1.00803119e+00,  2.91754177e+00,  1.25261924e+00],\n",
       "       [ 5.43319563e-02,  1.04917326e+00,  7.65955169e-01],\n",
       "       [ 2.27731817e-01, -8.56753588e-01, -6.94037034e-01],\n",
       "       [-6.39267485e-01,  8.95756974e-01, -2.07372967e-01],\n",
       "       [ 8.34631328e-01, -6.87104454e-01, -8.56258390e-01],\n",
       "       [-1.07276714e+00,  1.59949850e+00, -2.07372967e-01],\n",
       "       [-6.39267485e-01,  2.46761508e-01,  7.65955169e-01],\n",
       "       [ 1.41031886e-01,  1.60186340e-01, -8.56258390e-01],\n",
       "       [ 7.47931398e-01, -3.40803784e-01,  2.79291101e-01],\n",
       "       [-8.99367276e-01, -6.84558126e-01, -6.94037034e-01],\n",
       "       [ 1.44153084e+00,  9.61961514e-01, -6.94037034e-01],\n",
       "       [ 1.09473112e+00,  2.78767902e+00,  2.22594737e+00],\n",
       "       [ 7.47931398e-01, -6.26310862e-01, -4.50705001e-01],\n",
       "       [-2.05767834e-01, -4.83398177e-01,  2.79291101e-01],\n",
       "       [-3.23679739e-02,  1.21181999e+00,  1.00928720e+00],\n",
       "       [-9.86067206e-01, -8.13965721e-02, -2.07372967e-01],\n",
       "       [-4.65867625e-01, -4.85944506e-01,  7.65955169e-01],\n",
       "       [ 4.01131677e-01,  1.30903563e-01,  7.65955169e-01],\n",
       "       [-9.86067206e-01,  7.31200497e-01,  2.79291101e-01],\n",
       "       [-9.86067206e-01,  7.64621058e-01,  1.25261924e+00],\n",
       "       [-1.19067904e-01, -5.41963732e-01, -1.18070110e+00],\n",
       "       [ 4.01131677e-01,  2.70951628e-01, -2.07372967e-01],\n",
       "       [ 2.74202979e+00,  1.35677929e-01, -2.07372967e-01],\n",
       "       [-5.52567555e-01,  9.97291821e-01,  2.79291101e-01],\n",
       "       [ 2.39523007e+00,  3.28166674e+00,  3.19927551e+00],\n",
       "       [ 1.41031886e-01, -2.09212712e-02, -1.34292246e+00],\n",
       "       [ 2.27731817e-01, -7.95323414e-01,  2.79291101e-01],\n",
       "       [-4.65867625e-01, -5.03450514e-01, -2.07372967e-01],\n",
       "       [-6.39267485e-01,  6.12796224e-01,  1.25261924e+00],\n",
       "       [-9.86067206e-01, -6.02120742e-01, -1.18070110e+00],\n",
       "       [ 4.87831607e-01, -6.29175482e-01,  2.79291101e-01],\n",
       "       [-4.65867625e-01,  1.56353161e+00,  2.22594737e+00],\n",
       "       [-3.79167695e-01,  4.36462978e-01,  2.79291101e-01],\n",
       "       [-1.24616700e+00, -2.78737028e-01,  5.22623135e-01],\n",
       "       [ 8.34631328e-01,  1.41202507e+00,  1.73928330e+00],\n",
       "       [ 1.26813098e+00,  5.87969521e-01,  5.22623135e-01],\n",
       "       [ 1.61493070e+00,  1.26879409e+00,  1.25261924e+00],\n",
       "       [-7.25967416e-01, -6.80102051e-01, -8.56258390e-01],\n",
       "       [-6.39267485e-01, -1.44099910e-01,  3.59590672e-02],\n",
       "       [-7.25967416e-01, -7.03019007e-01, -1.18070110e+00],\n",
       "       [ 7.47931398e-01,  7.94858709e-01,  2.79291101e-01],\n",
       "       [-4.65867625e-01, -7.07156791e-01, -9.37369068e-01],\n",
       "       [-2.92467765e-01,  8.37828001e-01, -6.94037034e-01],\n",
       "       [-8.99367276e-01, -3.84409659e-01, -2.07372967e-01],\n",
       "       [-4.65867625e-01, -3.80908457e-01, -2.07372967e-01],\n",
       "       [ 9.21331258e-01,  4.71930151e-02, -4.50705001e-01],\n",
       "       [-7.25967416e-01, -6.35541303e-01, -9.37369068e-01],\n",
       "       [ 5.74531537e-01,  2.20266006e+00,  3.19927551e+00],\n",
       "       [-3.23679739e-02, -7.62539435e-01, -1.18070110e+00],\n",
       "       [-8.99367276e-01, -3.34756254e-01,  1.25261924e+00],\n",
       "       [-1.07276714e+00, -8.10283093e-01, -6.94037034e-01],\n",
       "       [-1.24616700e+00,  3.88546488e+00,  3.19927551e+00],\n",
       "       [-6.39267485e-01, -6.56866804e-01, -1.18070110e+00],\n",
       "       [ 2.13513028e+00, -4.49977616e-01,  2.79291101e-01],\n",
       "       [-1.24616700e+00, -4.64300714e-01,  2.79291101e-01],\n",
       "       [ 5.43319563e-02,  1.22582480e+00,  3.19927551e+00],\n",
       "       [ 2.74202979e+00, -7.24662799e-01, -1.18070110e+00],\n",
       "       [ 5.43319563e-02,  9.09761780e-01,  1.25261924e+00],\n",
       "       [ 7.47931398e-01, -2.54228616e-01, -1.18070110e+00],\n",
       "       [-3.23679739e-02, -3.33801381e-01,  2.79291101e-01],\n",
       "       [-8.12667346e-01,  3.23787944e-01,  1.25261924e+00],\n",
       "       [-8.12667346e-01, -8.53888968e-01, -6.94037034e-01],\n",
       "       [-2.92467765e-01, -6.02757324e-01,  2.79291101e-01],\n",
       "       [-8.12667346e-01, -8.55162132e-01, -6.94037034e-01],\n",
       "       [ 5.74531537e-01,  1.37414843e+00,  2.22594737e+00],\n",
       "       [-3.79167695e-01, -4.83079886e-01, -2.07372967e-01],\n",
       "       [-1.19067904e-01, -5.04723678e-01, -6.94037034e-01],\n",
       "       [-2.92467765e-01, -1.22137827e-01,  2.79291101e-01],\n",
       "       [ 5.43319563e-02,  1.49364444e-01,  5.22623135e-01],\n",
       "       [-7.25967416e-01, -8.58026752e-01, -2.07372967e-01],\n",
       "       [ 7.47931398e-01,  4.04315581e-01, -1.18070110e+00],\n",
       "       [ 1.26813098e+00, -5.95754921e-01, -6.94037034e-01],\n",
       "       [ 5.74531537e-01,  1.47695644e+00,  1.25261924e+00],\n",
       "       [ 9.21331258e-01,  1.08100237e+00,  2.79291101e-01],\n",
       "       [-6.39267485e-01,  1.94993696e+00,  1.25261924e+00],\n",
       "       [ 6.61231468e-01, -6.14215802e-01,  2.79291101e-01],\n",
       "       [ 2.27731817e-01, -7.09703119e-01,  2.79291101e-01],\n",
       "       [-7.25967416e-01, -1.99164263e-01,  1.25261924e+00],\n",
       "       [-1.07276714e+00, -6.83921544e-01, -6.94037034e-01],\n",
       "       [ 4.01131677e-01,  6.15979135e-01,  2.22594737e+00],\n",
       "       [-3.23679739e-02, -4.78942103e-01, -2.07372967e-01],\n",
       "       [ 4.01131677e-01, -2.45316467e-01,  1.17069745e-01],\n",
       "       [-1.33286693e+00, -5.94800048e-01, -7.75147712e-01],\n",
       "       [-8.12667346e-01, -6.79465469e-01,  2.79291101e-01],\n",
       "       [-7.25967416e-01, -2.34812862e-01, -4.50705001e-01],\n",
       "       [ 2.22183021e+00, -2.16033689e-01,  3.59590672e-02],\n",
       "       [-8.12667346e-01, -4.84034760e-01,  2.79291101e-01],\n",
       "       [-2.92467765e-01, -2.38314063e-01, -9.37369068e-01],\n",
       "       [ 1.87503049e+00, -8.71076685e-01, -6.94037034e-01],\n",
       "       [-2.92467765e-01, -7.35166404e-01, -9.37369068e-01],\n",
       "       [ 7.47931398e-01,  6.56083808e-01,  2.79291101e-01],\n",
       "       [ 2.27731817e-01, -8.71394976e-01, -6.94037034e-01],\n",
       "       [ 5.74531537e-01,  1.14034137e-01,  1.25261924e+00],\n",
       "       [-4.65867625e-01, -5.86842771e-01,  3.59590672e-02],\n",
       "       [ 5.43319563e-02, -4.79260394e-01, -2.07372967e-01],\n",
       "       [-1.15946707e+00, -5.05360260e-01, -6.94037034e-01],\n",
       "       [ 1.61493070e+00,  3.64529199e-01,  2.79291101e-01],\n",
       "       [-1.19067904e-01,  2.72211106e+00,  7.65955169e-01],\n",
       "       [-8.12667346e-01, -7.42487098e-01, -2.07372967e-01],\n",
       "       [-1.19067904e-01,  7.49343088e-01,  1.25261924e+00],\n",
       "       [ 2.27731817e-01, -1.86750912e-01, -6.94037034e-01],\n",
       "       [-4.65867625e-01, -8.93357059e-01, -6.94037034e-01],\n",
       "       [ 6.61231468e-01, -6.32358392e-01, -4.50705001e-01],\n",
       "       [-1.15946707e+00,  5.92880752e-02,  2.79291101e-01],\n",
       "       [-8.12667346e-01, -8.97813134e-01, -6.94037034e-01],\n",
       "       [-1.15946707e+00, -5.65198979e-01, -9.37369068e-01],\n",
       "       [-2.92467765e-01, -4.98357857e-01, -2.07372967e-01],\n",
       "       [-8.12667346e-01, -7.54263867e-01, -6.94037034e-01],\n",
       "       [-5.52567555e-01, -1.74974143e-01,  2.79291101e-01],\n",
       "       [-1.19067904e-01, -1.85159457e-01, -2.07372967e-01],\n",
       "       [ 4.01131677e-01, -6.64505789e-01,  2.79291101e-01],\n",
       "       [ 3.14431747e-01, -8.84763201e-01, -1.18070110e+00],\n",
       "       [-1.15946707e+00, -5.97982958e-01, -6.94037034e-01],\n",
       "       [-1.19067904e-01,  1.26765779e-01,  2.22594737e+00],\n",
       "       [-1.19067904e-01,  3.20923324e-01,  1.25261924e+00],\n",
       "       [-8.99367276e-01, -1.51738896e-01, -6.94037034e-01],\n",
       "       [ 1.70163063e+00, -6.46999781e-01, -6.94037034e-01],\n",
       "       [-8.12667346e-01, -5.30823545e-01, -4.50705001e-01],\n",
       "       [ 1.41031886e-01, -7.06838500e-01, -8.56258390e-01],\n",
       "       [-1.33286693e+00, -2.31629951e-01,  2.79291101e-01],\n",
       "       [-9.86067206e-01, -3.57354919e-01,  1.25261924e+00],\n",
       "       [ 4.01131677e-01, -4.67483625e-01,  1.25261924e+00],\n",
       "       [-8.12667346e-01, -8.47523147e-01, -1.18070110e+00],\n",
       "       [ 1.26813098e+00, -2.46589631e-01,  1.25261924e+00],\n",
       "       [-8.12667346e-01, -6.34268139e-01, -2.07372967e-01],\n",
       "       [ 1.61493070e+00, -6.77237431e-01, -6.94037034e-01],\n",
       "       [ 1.35483091e+00, -1.76247307e-01,  2.79291101e-01],\n",
       "       [ 9.21331258e-01, -7.31028620e-01, -2.07372967e-01],\n",
       "       [-5.52567555e-01,  1.63369251e-01, -4.50705001e-01],\n",
       "       [-7.25967416e-01, -7.24981090e-01, -6.94037034e-01],\n",
       "       [ 2.27731817e-01,  3.03339971e+00, -2.07372967e-01],\n",
       "       [-7.25967416e-01, -7.08111664e-01, -1.18070110e+00],\n",
       "       [ 1.41031886e-01,  7.32928818e-02, -1.18070110e+00],\n",
       "       [ 9.21331258e-01, -8.64392573e-01, -1.09959042e+00],\n",
       "       [-3.23679739e-02, -6.85831290e-01, -6.94037034e-01],\n",
       "       [-5.52567555e-01, -7.91503921e-01, -9.37369068e-01],\n",
       "       [ 2.13513028e+00,  3.60823336e+00,  3.19927551e+00],\n",
       "       [-7.25967416e-01,  2.39204323e+00,  2.22594737e+00],\n",
       "       [-5.52567555e-01, -3.54172008e-01,  2.79291101e-01],\n",
       "       [-8.12667346e-01,  2.39618102e+00,  1.25261924e+00],\n",
       "       [-1.19067904e-01, -1.36460925e-01, -6.94037034e-01],\n",
       "       [-4.65867625e-01,  1.43876152e+00,  4.41512457e-01],\n",
       "       [ 1.00803119e+00, -7.91822212e-01, -6.94037034e-01],\n",
       "       [ 2.48193000e+00,  1.22946287e-01, -9.37369068e-01],\n",
       "       [-8.99367276e-01,  1.40343121e+00,  1.25261924e+00],\n",
       "       [-7.25967416e-01, -7.98506324e-01,  2.79291101e-01],\n",
       "       [ 7.47931398e-01,  8.77932675e-01, -2.07372967e-01],\n",
       "       [ 1.96173042e+00, -9.74202988e-01, -6.94037034e-01],\n",
       "       [-6.39267485e-01, -1.22774410e-01,  2.22594737e+00],\n",
       "       [ 4.01131677e-01,  1.25033321e+00, -2.07372967e-01],\n",
       "       [-5.52567555e-01, -2.82419655e-02,  3.59590672e-02],\n",
       "       [-8.12667346e-01,  3.45113445e-01,  7.65955169e-01],\n",
       "       [-7.25967416e-01, -7.46306591e-01, -6.94037034e-01],\n",
       "       [-8.12667346e-01, -6.70734745e-02,  2.79291101e-01],\n",
       "       [-2.92467765e-01, -6.37769340e-01, -2.07372967e-01],\n",
       "       [ 2.30853014e+00, -6.70871610e-01, -1.18070110e+00],\n",
       "       [ 3.43562923e+00,  1.00875030e+00,  2.79291101e-01],\n",
       "       [-1.19067904e-01,  9.80740686e-01,  3.19927551e+00],\n",
       "       [-1.19067904e-01, -5.12044373e-01,  2.79291101e-01],\n",
       "       [ 1.70163063e+00,  1.09055110e+00,  2.79291101e-01],\n",
       "       [ 1.00803119e+00, -4.65255587e-01, -2.07372967e-01],\n",
       "       [ 1.52823077e+00, -1.94389897e-01,  2.79291101e-01],\n",
       "       [-8.12667346e-01, -7.28164001e-01, -6.94037034e-01],\n",
       "       [ 5.43319563e-02, -2.05848376e-01, -9.37369068e-01],\n",
       "       [ 9.21331258e-01, -8.74896178e-01, -6.94037034e-01],\n",
       "       [-5.52567555e-01, -7.17023814e-01,  2.79291101e-01],\n",
       "       [-8.12667346e-01, -9.08953321e-01, -1.18070110e+00],\n",
       "       [ 3.43562923e+00, -6.59413132e-01, -1.18070110e+00],\n",
       "       [-8.99367276e-01,  6.57356972e-01,  2.79291101e-01],\n",
       "       [-3.23679739e-02, -3.20433156e-01,  2.79291101e-01],\n",
       "       [-1.15946707e+00, -8.40202453e-01, -4.50705001e-01],\n",
       "       [-4.65867625e-01, -7.91185630e-01, -4.50705001e-01],\n",
       "       [ 3.14431747e-01,  2.18069797e+00,  2.22594737e+00],\n",
       "       [-4.65867625e-01, -8.71713267e-01, -6.94037034e-01],\n",
       "       [-1.07276714e+00, -4.80533558e-01, -2.07372967e-01],\n",
       "       [ 3.14431747e-01, -6.27902318e-01, -2.07372967e-01],\n",
       "       [-8.99367276e-01, -6.65460662e-01,  2.79291101e-01],\n",
       "       [-6.39267485e-01, -2.67278550e-01,  3.59590672e-02],\n",
       "       [-2.05767834e-01, -6.26310862e-01, -4.50705001e-01],\n",
       "       [-2.92467765e-01, -1.48874276e-01, -1.18070110e+00],\n",
       "       [ 2.82872972e+00,  3.64451854e+00, -1.18070110e+00],\n",
       "       [-3.79167695e-01, -6.35541303e-01, -1.18070110e+00],\n",
       "       [-1.07276714e+00, -7.63176017e-01, -8.56258390e-01],\n",
       "       [-5.52567555e-01,  2.66418209e+00,  1.98261534e+00],\n",
       "       [ 1.26813098e+00, -3.36029418e-01, -6.94037034e-01],\n",
       "       [ 4.01131677e-01, -7.29118874e-01, -6.94037034e-01],\n",
       "       [ 1.18143105e+00, -7.49171210e-01, -6.94037034e-01],\n",
       "       [-3.23679739e-02, -6.28538900e-01, -4.50705001e-01],\n",
       "       [ 4.87831607e-01, -3.00062528e-01,  7.65955169e-01],\n",
       "       [ 1.18143105e+00, -9.60516472e-01, -1.18070110e+00],\n",
       "       [-5.52567555e-01, -4.12737563e-01, -6.94037034e-01],\n",
       "       [ 2.27731817e-01,  2.10931484e-02,  2.79291101e-01],\n",
       "       [-3.23679739e-02, -7.15432358e-01, -1.18070110e+00],\n",
       "       [-1.07276714e+00,  1.17171532e+00,  1.25261924e+00],\n",
       "       [-4.65867625e-01, -4.51250781e-01,  2.79291101e-01],\n",
       "       [-1.19067904e-01, -1.97572808e-01,  2.79291101e-01],\n",
       "       [ 1.00803119e+00, -3.47806187e-01,  3.59590672e-02],\n",
       "       [-1.15946707e+00, -3.64357322e-01, -9.37369068e-01],\n",
       "       [-8.12667346e-01,  4.87844704e-02,  3.59590672e-02],\n",
       "       [-1.07276714e+00,  1.48727862e-01,  1.25261924e+00],\n",
       "       [ 4.01131677e-01, -8.12192840e-01, -8.56258390e-01],\n",
       "       [-1.07276714e+00, -6.90923947e-01, -8.56258390e-01],\n",
       "       [ 1.41031886e-01, -4.22604586e-01, -9.37369068e-01],\n",
       "       [-2.92467765e-01, -8.00416071e-01, -1.18070110e+00],\n",
       "       [-9.86067206e-01, -5.40690568e-01,  2.79291101e-01],\n",
       "       [ 5.43319563e-02, -8.73941305e-01, -1.18070110e+00],\n",
       "       [ 5.43319563e-02,  2.28937209e-01, -2.07372967e-01],\n",
       "       [-3.23679739e-02,  2.24481134e-01,  2.79291101e-01],\n",
       "       [-7.25967416e-01,  2.20661641e-01,  2.79291101e-01],\n",
       "       [ 7.47931398e-01, -5.22547978e-01, -6.94037034e-01],\n",
       "       [-2.05767834e-01, -8.65347446e-01, -6.94037034e-01],\n",
       "       [-4.65867625e-01, -1.19909790e-01,  2.79291101e-01],\n",
       "       [-7.25967416e-01,  3.59754833e-01,  1.98261534e+00],\n",
       "       [ 2.65532986e+00, -8.45295110e-01, -9.37369068e-01],\n",
       "       [ 8.34631328e-01, -9.88844377e-01, -6.94037034e-01],\n",
       "       [-1.33286693e+00, -7.44396844e-01, -6.94037034e-01],\n",
       "       [-1.33286693e+00, -6.78828887e-01, -9.37369068e-01],\n",
       "       [ 5.74531537e-01,  2.25117716e-01, -2.07372967e-01],\n",
       "       [ 1.41031886e-01,  2.84138427e-02,  1.25261924e+00],\n",
       "       [ 1.26813098e+00, -6.07531690e-01, -4.50705001e-01],\n",
       "       [-2.92467765e-01, -2.92105252e-01,  5.22623135e-01],\n",
       "       [-8.99367276e-01, -6.96334895e-01,  2.79291101e-01],\n",
       "       [-1.24616700e+00, -1.50551670e-03,  7.65955169e-01],\n",
       "       [ 1.87503049e+00,  3.46054631e+00,  1.25261924e+00],\n",
       "       [ 1.61493070e+00,  3.89174476e-02, -4.50705001e-01],\n",
       "       [-1.19067904e-01,  1.65278997e-01,  1.73928330e+00],\n",
       "       [-9.86067206e-01, -8.97494843e-01, -6.94037034e-01],\n",
       "       [ 8.34631328e-01, -3.63720740e-01,  2.79291101e-01],\n",
       "       [-3.79167695e-01, -4.73849446e-01, -1.18070110e+00],\n",
       "       [-8.12667346e-01, -1.00993752e-02,  3.59590672e-02],\n",
       "       [ 1.44153084e+00, -1.17363462e-01, -6.94037034e-01],\n",
       "       [-7.25967416e-01,  3.36792362e+00,  3.19927551e+00],\n",
       "       [-1.15946707e+00, -3.13112462e-01, -2.07372967e-01],\n",
       "       [-8.12667346e-01, -2.41496974e-01, -4.50705001e-01],\n",
       "       [-3.23679739e-02, -4.85944506e-01, -9.37369068e-01],\n",
       "       [ 2.48193000e+00, -3.37939164e-01,  2.79291101e-01],\n",
       "       [-6.39267485e-01, -7.97869742e-01, -6.94037034e-01],\n",
       "       [-1.19067904e-01,  1.60004915e-02,  7.65955169e-01],\n",
       "       [-6.39267485e-01,  8.76341219e-01, -6.94037034e-01],\n",
       "       [-2.05767834e-01, -7.00472679e-01, -2.07372967e-01],\n",
       "       [-3.23679739e-02, -2.46907922e-01,  2.79291101e-01],\n",
       "       [-1.07276714e+00, -6.66415535e-01, -1.18070110e+00],\n",
       "       [-8.99367276e-01,  7.40112647e-01,  7.65955169e-01],\n",
       "       [-4.65867625e-01,  3.85536409e-01, -4.50705001e-01],\n",
       "       [ 1.41031886e-01, -6.91242238e-01, -6.94037034e-01],\n",
       "       [-6.39267485e-01, -6.99199514e-01,  2.79291101e-01],\n",
       "       [-1.07276714e+00,  2.58269958e+00,  2.79291101e-01],\n",
       "       [-8.99367276e-01, -6.60368005e-01,  2.79291101e-01],\n",
       "       [-5.52567555e-01, -6.39360796e-01, -9.37369068e-01],\n",
       "       [-9.86067206e-01, -4.14010727e-01,  1.25261924e+00],\n",
       "       [-8.12667346e-01, -9.02905791e-01, -6.94037034e-01],\n",
       "       [ 2.39523007e+00, -5.69973345e-01, -6.94037034e-01],\n",
       "       [-9.86067206e-01,  1.28152574e+00, -6.94037034e-01],\n",
       "       [-1.33286693e+00, -4.47749579e-01, -2.07372967e-01],\n",
       "       [-4.65867625e-01, -3.54172008e-01,  7.65955169e-01],\n",
       "       [ 1.26813098e+00,  1.28279890e+00,  2.22594737e+00],\n",
       "       [-3.79167695e-01, -2.15578533e-02, -2.07372967e-01],\n",
       "       [-2.05767834e-01, -1.32641432e-01, -4.50705001e-01],\n",
       "       [ 2.39523007e+00, -8.48159729e-01, -8.56258390e-01],\n",
       "       [ 5.43319563e-02,  1.46181534e-01, -7.75147712e-01],\n",
       "       [-3.23679739e-02,  4.04229643e-04, -6.94037034e-01],\n",
       "       [-1.15946707e+00, -6.96334895e-01, -6.94037034e-01],\n",
       "       [-8.99367276e-01, -3.56081755e-01, -4.50705001e-01],\n",
       "       [-7.25967416e-01,  1.81784617e+00,  3.19927551e+00],\n",
       "       [-2.05767834e-01, -7.65085763e-01, -2.07372967e-01],\n",
       "       [-3.23679739e-02,  1.68780199e-01,  3.59590672e-02],\n",
       "       [-2.92467765e-01, -3.56718337e-01,  2.79291101e-01],\n",
       "       [-3.23679739e-02, -8.76805924e-01, -6.94037034e-01],\n",
       "       [-8.12667346e-01,  2.43260306e-01,  1.25261924e+00],\n",
       "       [-5.52567555e-01,  2.50885605e+00,  2.79291101e-01],\n",
       "       [-7.25967416e-01,  1.82785005e-01,  2.79291101e-01],\n",
       "       [ 2.22183021e+00, -1.23092701e-01, -6.94037034e-01],\n",
       "       [-1.07276714e+00, -7.79727152e-01, -6.94037034e-01],\n",
       "       [ 4.87831607e-01, -4.23241168e-01, -1.18070110e+00],\n",
       "       [ 1.26813098e+00, -7.03337298e-01, -1.18070110e+00],\n",
       "       [-2.92467765e-01, -1.90252114e-01, -8.56258390e-01],\n",
       "       [-1.07276714e+00,  3.53598129e+00, -1.18070110e+00],\n",
       "       [-2.05767834e-01, -5.07588298e-01,  2.79291101e-01],\n",
       "       [-7.25967416e-01, -7.94050249e-01, -6.94037034e-01],\n",
       "       [ 5.43319563e-02, -8.15375750e-01, -2.07372967e-01],\n",
       "       [-3.79167695e-01,  1.94802721e+00,  1.25261924e+00],\n",
       "       [ 1.44153084e+00, -7.98824615e-01, -9.37369068e-01],\n",
       "       [ 2.48193000e+00, -6.62596043e-01, -8.56258390e-01],\n",
       "       [-3.23679739e-02,  2.97369786e-01, -2.07372967e-01],\n",
       "       [-8.12667346e-01,  1.52247207e+00,  1.25261924e+00],\n",
       "       [ 1.70163063e+00, -2.76190699e-01, -6.94037034e-01],\n",
       "       [ 1.18143105e+00, -6.95061731e-01, -6.94037034e-01],\n",
       "       [ 1.26813098e+00, -7.63494308e-01, -1.18070110e+00],\n",
       "       [-7.25967416e-01, -4.84353051e-01, -2.07372967e-01],\n",
       "       [-6.39267485e-01, -2.50409124e-01, -2.07372967e-01],\n",
       "       [-3.23679739e-02, -2.76827281e-01, -1.09959042e+00],\n",
       "       [-1.07276714e+00,  8.85889951e-01,  1.25261924e+00],\n",
       "       [-6.39267485e-01, -3.26980403e-02, -4.50705001e-01],\n",
       "       [-3.79167695e-01, -6.47954654e-01, -6.94037034e-01],\n",
       "       [-3.79167695e-01, -2.13487361e-01, -2.07372967e-01],\n",
       "       [-1.33286693e+00,  5.45137094e-02,  2.79291101e-01],\n",
       "       [ 2.74202979e+00, -7.15114067e-01, -9.37369068e-01]])"
      ]
     },
     "execution_count": 52,
     "metadata": {},
     "output_type": "execute_result"
    },
    {
     "name": "stderr",
     "output_type": "stream",
     "text": [
      "/Users/shree/opt/anaconda3/lib/python3.8/site-packages/pandas/core/frame.py:3191: SettingWithCopyWarning: \n",
      "A value is trying to be set on a copy of a slice from a DataFrame.\n",
      "Try using .loc[row_indexer,col_indexer] = value instead\n",
      "\n",
      "See the caveats in the documentation: https://pandas.pydata.org/pandas-docs/stable/user_guide/indexing.html#returning-a-view-versus-a-copy\n",
      "  self[k1] = value[k2]\n"
     ]
    },
    {
     "data": {
      "text/plain": [
       "(300, 9)"
      ]
     },
     "execution_count": 52,
     "metadata": {},
     "output_type": "execute_result"
    }
   ],
   "source": [
    "ss = StandardScaler()\n",
    "ss.fit_transform(X_test[num_a])\n",
    "le = LabelEncoder()\n",
    "X_test[cat_a] = X_test[cat_a].apply(le.fit_transform)\n",
    "a1 = X_test[cat_a]\n",
    "b1 = ss.transform(X_test[num_a])\n",
    "\n",
    "Xtr1 = np.hstack([a1,b1]) \n",
    "Xtr1.shape "
   ]
  },
  {
   "cell_type": "code",
   "execution_count": 53,
   "id": "4f8ddc4f",
   "metadata": {},
   "outputs": [
    {
     "name": "stdout",
     "output_type": "stream",
     "text": [
      "Accuracy is 0.65\n"
     ]
    }
   ],
   "source": [
    "y_pred = D.predict(Xtr1)\n",
    "print(f\"Accuracy is {np.sum((y_test == y_pred))/y_test.size}\")"
   ]
  },
  {
   "cell_type": "code",
   "execution_count": 54,
   "id": "36ed6f1c",
   "metadata": {},
   "outputs": [
    {
     "data": {
      "text/plain": [
       "Index(['Age', 'Sex', 'Job', 'Housing', 'Saving accounts', 'Checking account',\n",
       "       'Credit amount', 'Duration', 'Purpose', 'Risk'],\n",
       "      dtype='object')"
      ]
     },
     "execution_count": 54,
     "metadata": {},
     "output_type": "execute_result"
    }
   ],
   "source": [
    "A.columns"
   ]
  },
  {
   "cell_type": "code",
   "execution_count": 55,
   "id": "f815d561",
   "metadata": {},
   "outputs": [
    {
     "data": {
      "image/png": "[encoded data removed]",
      "text/plain": [
       "<Figure size 1080x1080 with 1 Axes>"
      ]
     },
     "metadata": {},
     "output_type": "display_data"
    }
   ],
   "source": [
    "_=plt.figure(figsize=(15,15))\n",
    "_=plot_tree(\n",
    "            D,\n",
    "            max_depth = 3,  # Draw upto depth of 3\n",
    "            rounded = True, # Rounded boxes\n",
    "            filled = True,  # Boxes filled with color\n",
    "            impurity = True,# Show impurity level\n",
    "            node_ids = True,# Display node_id\n",
    "            feature_names = ['Age', 'Sex', 'Job', 'Housing', 'Saving accounts', 'Checking account',\n",
    "       'Credit amount', 'Duration', 'Purpose'],\n",
    "            class_names = ['0',' 1']\n",
    "            )\n",
    "\n",
    "_=plt.show()"
   ]
  },
  {
   "cell_type": "markdown",
   "id": "4bf149ce",
   "metadata": {},
   "source": [
    "# KNN Classification\n"
   ]
  },
  {
   "cell_type": "code",
   "execution_count": 56,
   "id": "5b6f9ad7",
   "metadata": {},
   "outputs": [
    {
     "data": {
      "text/plain": [
       "KNeighborsClassifier(metric='euclidean')"
      ]
     },
     "execution_count": 56,
     "metadata": {},
     "output_type": "execute_result"
    }
   ],
   "source": [
    "knn = KNeighborsClassifier(n_neighbors=5, metric='euclidean')\n",
    "knn.fit(X_train, y_train)"
   ]
  },
  {
   "cell_type": "code",
   "execution_count": 57,
   "id": "29c26140",
   "metadata": {},
   "outputs": [
    {
     "data": {
      "text/plain": [
       "array([[ 24,  74],\n",
       "       [ 34, 168]])"
      ]
     },
     "execution_count": 57,
     "metadata": {},
     "output_type": "execute_result"
    }
   ],
   "source": [
    "y_pred = knn.predict(X_test)\n",
    "from sklearn.metrics import confusion_matrix\n",
    "confusion_matrix(y_test, y_pred)"
   ]
  },
  {
   "cell_type": "code",
   "execution_count": 58,
   "id": "fa44b9ab",
   "metadata": {},
   "outputs": [
    {
     "data": {
      "text/plain": [
       "0.64"
      ]
     },
     "execution_count": 58,
     "metadata": {},
     "output_type": "execute_result"
    },
    {
     "data": {
      "text/plain": [
       "KNeighborsClassifier(n_neighbors=1)"
      ]
     },
     "execution_count": 58,
     "metadata": {},
     "output_type": "execute_result"
    },
    {
     "data": {
      "text/plain": [
       "KNeighborsClassifier(n_neighbors=2)"
      ]
     },
     "execution_count": 58,
     "metadata": {},
     "output_type": "execute_result"
    },
    {
     "data": {
      "text/plain": [
       "KNeighborsClassifier(n_neighbors=3)"
      ]
     },
     "execution_count": 58,
     "metadata": {},
     "output_type": "execute_result"
    },
    {
     "data": {
      "text/plain": [
       "KNeighborsClassifier(n_neighbors=4)"
      ]
     },
     "execution_count": 58,
     "metadata": {},
     "output_type": "execute_result"
    },
    {
     "data": {
      "text/plain": [
       "KNeighborsClassifier()"
      ]
     },
     "execution_count": 58,
     "metadata": {},
     "output_type": "execute_result"
    },
    {
     "data": {
      "text/plain": [
       "KNeighborsClassifier(n_neighbors=6)"
      ]
     },
     "execution_count": 58,
     "metadata": {},
     "output_type": "execute_result"
    },
    {
     "data": {
      "text/plain": [
       "KNeighborsClassifier(n_neighbors=7)"
      ]
     },
     "execution_count": 58,
     "metadata": {},
     "output_type": "execute_result"
    },
    {
     "data": {
      "text/plain": [
       "KNeighborsClassifier(n_neighbors=8)"
      ]
     },
     "execution_count": 58,
     "metadata": {},
     "output_type": "execute_result"
    },
    {
     "data": {
      "text/plain": [
       "KNeighborsClassifier(n_neighbors=9)"
      ]
     },
     "execution_count": 58,
     "metadata": {},
     "output_type": "execute_result"
    },
    {
     "data": {
      "text/plain": [
       "KNeighborsClassifier(n_neighbors=10)"
      ]
     },
     "execution_count": 58,
     "metadata": {},
     "output_type": "execute_result"
    },
    {
     "data": {
      "text/plain": [
       "KNeighborsClassifier(n_neighbors=11)"
      ]
     },
     "execution_count": 58,
     "metadata": {},
     "output_type": "execute_result"
    },
    {
     "data": {
      "text/plain": [
       "KNeighborsClassifier(n_neighbors=12)"
      ]
     },
     "execution_count": 58,
     "metadata": {},
     "output_type": "execute_result"
    },
    {
     "data": {
      "text/plain": [
       "KNeighborsClassifier(n_neighbors=13)"
      ]
     },
     "execution_count": 58,
     "metadata": {},
     "output_type": "execute_result"
    },
    {
     "data": {
      "text/plain": [
       "KNeighborsClassifier(n_neighbors=14)"
      ]
     },
     "execution_count": 58,
     "metadata": {},
     "output_type": "execute_result"
    },
    {
     "data": {
      "text/plain": [
       "KNeighborsClassifier(n_neighbors=15)"
      ]
     },
     "execution_count": 58,
     "metadata": {},
     "output_type": "execute_result"
    },
    {
     "data": {
      "text/plain": [
       "KNeighborsClassifier(n_neighbors=16)"
      ]
     },
     "execution_count": 58,
     "metadata": {},
     "output_type": "execute_result"
    },
    {
     "data": {
      "text/plain": [
       "KNeighborsClassifier(n_neighbors=17)"
      ]
     },
     "execution_count": 58,
     "metadata": {},
     "output_type": "execute_result"
    },
    {
     "data": {
      "text/plain": [
       "KNeighborsClassifier(n_neighbors=18)"
      ]
     },
     "execution_count": 58,
     "metadata": {},
     "output_type": "execute_result"
    },
    {
     "data": {
      "text/plain": [
       "KNeighborsClassifier(n_neighbors=19)"
      ]
     },
     "execution_count": 58,
     "metadata": {},
     "output_type": "execute_result"
    },
    {
     "data": {
      "text/plain": [
       "KNeighborsClassifier(n_neighbors=20)"
      ]
     },
     "execution_count": 58,
     "metadata": {},
     "output_type": "execute_result"
    },
    {
     "data": {
      "text/plain": [
       "KNeighborsClassifier(n_neighbors=21)"
      ]
     },
     "execution_count": 58,
     "metadata": {},
     "output_type": "execute_result"
    },
    {
     "data": {
      "text/plain": [
       "KNeighborsClassifier(n_neighbors=22)"
      ]
     },
     "execution_count": 58,
     "metadata": {},
     "output_type": "execute_result"
    },
    {
     "data": {
      "text/plain": [
       "KNeighborsClassifier(n_neighbors=23)"
      ]
     },
     "execution_count": 58,
     "metadata": {},
     "output_type": "execute_result"
    },
    {
     "data": {
      "text/plain": [
       "KNeighborsClassifier(n_neighbors=24)"
      ]
     },
     "execution_count": 58,
     "metadata": {},
     "output_type": "execute_result"
    },
    {
     "data": {
      "text/plain": [
       "KNeighborsClassifier(n_neighbors=25)"
      ]
     },
     "execution_count": 58,
     "metadata": {},
     "output_type": "execute_result"
    },
    {
     "data": {
      "text/plain": [
       "KNeighborsClassifier(n_neighbors=26)"
      ]
     },
     "execution_count": 58,
     "metadata": {},
     "output_type": "execute_result"
    },
    {
     "data": {
      "text/plain": [
       "KNeighborsClassifier(n_neighbors=27)"
      ]
     },
     "execution_count": 58,
     "metadata": {},
     "output_type": "execute_result"
    },
    {
     "data": {
      "text/plain": [
       "KNeighborsClassifier(n_neighbors=28)"
      ]
     },
     "execution_count": 58,
     "metadata": {},
     "output_type": "execute_result"
    },
    {
     "data": {
      "text/plain": [
       "KNeighborsClassifier(n_neighbors=29)"
      ]
     },
     "execution_count": 58,
     "metadata": {},
     "output_type": "execute_result"
    },
    {
     "data": {
      "text/plain": [
       "KNeighborsClassifier(n_neighbors=30)"
      ]
     },
     "execution_count": 58,
     "metadata": {},
     "output_type": "execute_result"
    },
    {
     "data": {
      "text/plain": [
       "KNeighborsClassifier(n_neighbors=31)"
      ]
     },
     "execution_count": 58,
     "metadata": {},
     "output_type": "execute_result"
    },
    {
     "data": {
      "text/plain": [
       "KNeighborsClassifier(n_neighbors=32)"
      ]
     },
     "execution_count": 58,
     "metadata": {},
     "output_type": "execute_result"
    },
    {
     "data": {
      "text/plain": [
       "KNeighborsClassifier(n_neighbors=33)"
      ]
     },
     "execution_count": 58,
     "metadata": {},
     "output_type": "execute_result"
    },
    {
     "data": {
      "text/plain": [
       "KNeighborsClassifier(n_neighbors=34)"
      ]
     },
     "execution_count": 58,
     "metadata": {},
     "output_type": "execute_result"
    },
    {
     "data": {
      "text/plain": [
       "KNeighborsClassifier(n_neighbors=35)"
      ]
     },
     "execution_count": 58,
     "metadata": {},
     "output_type": "execute_result"
    },
    {
     "data": {
      "text/plain": [
       "KNeighborsClassifier(n_neighbors=36)"
      ]
     },
     "execution_count": 58,
     "metadata": {},
     "output_type": "execute_result"
    },
    {
     "data": {
      "text/plain": [
       "KNeighborsClassifier(n_neighbors=37)"
      ]
     },
     "execution_count": 58,
     "metadata": {},
     "output_type": "execute_result"
    },
    {
     "data": {
      "text/plain": [
       "KNeighborsClassifier(n_neighbors=38)"
      ]
     },
     "execution_count": 58,
     "metadata": {},
     "output_type": "execute_result"
    },
    {
     "data": {
      "text/plain": [
       "KNeighborsClassifier(n_neighbors=39)"
      ]
     },
     "execution_count": 58,
     "metadata": {},
     "output_type": "execute_result"
    },
    {
     "data": {
      "text/plain": [
       "<Figure size 720x432 with 0 Axes>"
      ]
     },
     "execution_count": 58,
     "metadata": {},
     "output_type": "execute_result"
    },
    {
     "data": {
      "text/plain": [
       "[<matplotlib.lines.Line2D at 0x7fd1793db7f0>]"
      ]
     },
     "execution_count": 58,
     "metadata": {},
     "output_type": "execute_result"
    },
    {
     "data": {
      "text/plain": [
       "Text(0.5, 1.0, 'Error Rate vs. K Value')"
      ]
     },
     "execution_count": 58,
     "metadata": {},
     "output_type": "execute_result"
    },
    {
     "data": {
      "text/plain": [
       "Text(0.5, 0, 'K')"
      ]
     },
     "execution_count": 58,
     "metadata": {},
     "output_type": "execute_result"
    },
    {
     "data": {
      "text/plain": [
       "Text(0, 0.5, 'Error Rate')"
      ]
     },
     "execution_count": 58,
     "metadata": {},
     "output_type": "execute_result"
    },
    {
     "data": {
      "image/png": "[encoded data removed]",
      "text/plain": [
       "<Figure size 720x432 with 1 Axes>"
      ]
     },
     "metadata": {},
     "output_type": "display_data"
    },
    {
     "name": "stdout",
     "output_type": "stream",
     "text": [
      "Minimum error:- 0.31666666666666665 at K = 9\n"
     ]
    }
   ],
   "source": [
    "from sklearn.metrics import accuracy_score\n",
    "accuracy_score(y_test, y_pred)\n",
    "error_rate = []\n",
    "for i in range(1,40):\n",
    " knn = KNeighborsClassifier(n_neighbors=i)\n",
    " knn.fit(X_train,y_train)\n",
    " pred_i = knn.predict(X_test)\n",
    " error_rate.append(1-accuracy_score(y_test, pred_i))\n",
    "plt.figure(figsize=(10,6))\n",
    "plt.plot(range(1,40),error_rate,color='blue', linestyle='dashed', \n",
    "         marker='o',markerfacecolor='red', markersize=10)\n",
    "plt.title('Error Rate vs. K Value')\n",
    "plt.xlabel('K')\n",
    "plt.ylabel('Error Rate')\n",
    "plt.show()\n",
    "print(\"Minimum error:-\",min(error_rate),\"at K =\",error_rate.index(min(error_rate))+1)"
   ]
  },
  {
   "cell_type": "code",
   "execution_count": 59,
   "id": "355f5cba",
   "metadata": {},
   "outputs": [
    {
     "data": {
      "text/plain": [
       "KNeighborsClassifier(metric='euclidean', n_neighbors=22)"
      ]
     },
     "execution_count": 59,
     "metadata": {},
     "output_type": "execute_result"
    },
    {
     "data": {
      "text/plain": [
       "0.6733333333333333"
      ]
     },
     "execution_count": 59,
     "metadata": {},
     "output_type": "execute_result"
    }
   ],
   "source": [
    "knn = KNeighborsClassifier(n_neighbors=22, metric='euclidean')\n",
    "knn.fit(X_train, y_train)\n",
    "y_pred = knn.predict(X_test)\n",
    "accuracy_score(y_test, y_pred)"
   ]
  },
  {
   "cell_type": "markdown",
   "id": "768711fa",
   "metadata": {},
   "source": [
    "# Random Forest Classification"
   ]
  },
  {
   "cell_type": "code",
   "execution_count": 60,
   "id": "e4c8713f",
   "metadata": {},
   "outputs": [
    {
     "data": {
      "text/plain": [
       "RandomForestClassifier()"
      ]
     },
     "execution_count": 60,
     "metadata": {},
     "output_type": "execute_result"
    }
   ],
   "source": [
    "from sklearn.ensemble import RandomForestClassifier\n",
    "clf=RandomForestClassifier(n_estimators=100)\n",
    "clf.fit(Xtr,y_train)\n",
    "y_pred=clf.predict(Xtr1)"
   ]
  },
  {
   "cell_type": "code",
   "execution_count": 61,
   "id": "1ba3b74b",
   "metadata": {},
   "outputs": [
    {
     "data": {
      "text/plain": [
       "array([[ 31,  67],\n",
       "       [ 28, 174]])"
      ]
     },
     "execution_count": 61,
     "metadata": {},
     "output_type": "execute_result"
    }
   ],
   "source": [
    "from sklearn.metrics import classification_report\n",
    "from sklearn.metrics import confusion_matrix\n",
    "confusion_matrix(y_test, y_pred)"
   ]
  },
  {
   "cell_type": "code",
   "execution_count": 62,
   "id": "236d6d04",
   "metadata": {},
   "outputs": [
    {
     "name": "stdout",
     "output_type": "stream",
     "text": [
      "              precision    recall  f1-score   support\n",
      "\n",
      "         bad       0.53      0.32      0.39        98\n",
      "        good       0.72      0.86      0.79       202\n",
      "\n",
      "    accuracy                           0.68       300\n",
      "   macro avg       0.62      0.59      0.59       300\n",
      "weighted avg       0.66      0.68      0.66       300\n",
      "\n"
     ]
    }
   ],
   "source": [
    "print(classification_report(y_test, y_pred))"
   ]
  },
  {
   "cell_type": "code",
   "execution_count": 63,
   "id": "5a7e05a9",
   "metadata": {},
   "outputs": [
    {
     "name": "stderr",
     "output_type": "stream",
     "text": [
      "<ipython-input-63-06f0c3b494d3>:1: UserWarning: Pandas doesn't allow columns to be created via a new attribute name - see https://pandas.pydata.org/pandas-docs/stable/indexing.html#attribute-access\n",
      "  A.feature_names = A[['Age', 'Sex', 'Job', 'Housing', 'Saving accounts', 'Checking account',\n",
      "<ipython-input-63-06f0c3b494d3>:3: UserWarning: Pandas doesn't allow columns to be created via a new attribute name - see https://pandas.pydata.org/pandas-docs/stable/indexing.html#attribute-access\n",
      "  A.target_names = A['Risk']\n"
     ]
    }
   ],
   "source": [
    "A.feature_names = A[['Age', 'Sex', 'Job', 'Housing', 'Saving accounts', 'Checking account',\n",
    "       'Credit amount', 'Duration', 'Purpose']]\n",
    "A.target_names = A['Risk']"
   ]
  },
  {
   "cell_type": "code",
   "execution_count": 64,
   "id": "dd07d973",
   "metadata": {},
   "outputs": [
    {
     "data": {
      "text/plain": [
       "7    0.237173\n",
       "6    0.184756\n",
       "8    0.153614\n",
       "4    0.149129\n",
       "5    0.085613\n",
       "3    0.063691\n",
       "1    0.051522\n",
       "2    0.042352\n",
       "0    0.032150\n",
       "dtype: float64"
      ]
     },
     "execution_count": 64,
     "metadata": {},
     "output_type": "execute_result"
    }
   ],
   "source": [
    "import pandas as pd\n",
    "feature_imp = pd.Series(clf.feature_importances_).sort_values(ascending=False)\n",
    "feature_imp"
   ]
  },
  {
   "cell_type": "code",
   "execution_count": 66,
   "id": "c0c17aba",
   "metadata": {},
   "outputs": [
    {
     "data": {
      "text/plain": [
       "[('Age', 0.23717289972107305),\n",
       " ('Sex', 0.1847562975457183),\n",
       " ('Job', 0.15361373389363986),\n",
       " ('Housing', 0.14912947030526358),\n",
       " ('Saving accounts', 0.08561349360977788),\n",
       " ('Checking account', 0.06369069450384404),\n",
       " ('Credit amount', 0.05152163813877695),\n",
       " ('Duration', 0.04235178498811481),\n",
       " ('Purpose', 0.0321499872937916)]"
      ]
     },
     "execution_count": 66,
     "metadata": {},
     "output_type": "execute_result"
    }
   ],
   "source": [
    "list(zip(A.columns, feature_imp))"
   ]
  },
  {
   "cell_type": "code",
   "execution_count": 67,
   "id": "ad41b9f1",
   "metadata": {},
   "outputs": [
    {
     "data": {
      "text/plain": [
       "<AxesSubplot:>"
      ]
     },
     "execution_count": 67,
     "metadata": {},
     "output_type": "execute_result"
    },
    {
     "data": {
      "text/plain": [
       "Text(0.5, 0, 'Feature Importance Score')"
      ]
     },
     "execution_count": 67,
     "metadata": {},
     "output_type": "execute_result"
    },
    {
     "data": {
      "text/plain": [
       "Text(0, 0.5, 'Features')"
      ]
     },
     "execution_count": 67,
     "metadata": {},
     "output_type": "execute_result"
    },
    {
     "data": {
      "text/plain": [
       "Text(0.5, 1.0, 'Visualizing Important Features')"
      ]
     },
     "execution_count": 67,
     "metadata": {},
     "output_type": "execute_result"
    },
    {
     "name": "stderr",
     "output_type": "stream",
     "text": [
      "No handles with labels found to put in legend.\n"
     ]
    },
    {
     "data": {
      "text/plain": [
       "<matplotlib.legend.Legend at 0x7fd1790f94c0>"
      ]
     },
     "execution_count": 67,
     "metadata": {},
     "output_type": "execute_result"
    },
    {
     "data": {
      "image/png": "[encoded data removed]",
      "text/plain": [
       "<Figure size 432x288 with 1 Axes>"
      ]
     },
     "metadata": {
      "needs_background": "light"
     },
     "output_type": "display_data"
    }
   ],
   "source": [
    "#visualizing feature importance results\n",
    "import matplotlib.pyplot as plt\n",
    "import seaborn as sns\n",
    "%matplotlib inline\n",
    "\n",
    "# Creating a bar plot\n",
    "sns.barplot(x=feature_imp, y=feature_imp.index)\n",
    "\n",
    "# Add labels to your graph\n",
    "plt.xlabel('Feature Importance Score')\n",
    "plt.ylabel('Features')\n",
    "plt.title(\"Visualizing Important Features\")\n",
    "plt.legend()\n",
    "plt.show()"
   ]
  },
  {
   "cell_type": "code",
   "execution_count": 68,
   "id": "0a0464bf",
   "metadata": {},
   "outputs": [
    {
     "name": "stdout",
     "output_type": "stream",
     "text": [
      "Accuracy: 0.6833333333333333\n"
     ]
    }
   ],
   "source": [
    "from sklearn import metrics\n",
    "print(\"Accuracy:\",metrics.accuracy_score(y_test, y_pred))"
   ]
  },
  {
   "cell_type": "code",
   "execution_count": 69,
   "id": "d4af0bb7",
   "metadata": {},
   "outputs": [
    {
     "name": "stdout",
     "output_type": "stream",
     "text": [
      "              precision    recall  f1-score   support\n",
      "\n",
      "         bad       0.53      0.32      0.39        98\n",
      "        good       0.72      0.86      0.79       202\n",
      "\n",
      "    accuracy                           0.68       300\n",
      "   macro avg       0.62      0.59      0.59       300\n",
      "weighted avg       0.66      0.68      0.66       300\n",
      "\n"
     ]
    }
   ],
   "source": [
    "print(classification_report(y_test, y_pred))"
   ]
  }
 ],
 "metadata": {
  "kernelspec": {
   "display_name": "Python 3",
   "language": "python",
   "name": "python3"
  },
  "language_info": {
   "codemirror_mode": {
    "name": "ipython",
    "version": 3
   },
   "file_extension": ".py",
   "mimetype": "text/x-python",
   "name": "python",
   "nbconvert_exporter": "python",
   "pygments_lexer": "ipython3",
   "version": "3.8.8"
  }
 },
 "nbformat": 4,
 "nbformat_minor": 5
}
